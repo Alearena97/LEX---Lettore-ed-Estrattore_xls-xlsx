{
 "cells": [
  {
   "cell_type": "code",
   "execution_count": 119,
   "metadata": {},
   "outputs": [],
   "source": [
    "import pandas as pd"
   ]
  },
  {
   "cell_type": "markdown",
   "metadata": {},
   "source": [
    "Importo la libreria Pandas"
   ]
  },
  {
   "cell_type": "code",
   "execution_count": 120,
   "metadata": {},
   "outputs": [],
   "source": [
    "import numpy as np"
   ]
  },
  {
   "cell_type": "markdown",
   "metadata": {},
   "source": [
    "Importo la libreria Numpy"
   ]
  },
  {
   "cell_type": "code",
   "execution_count": 121,
   "metadata": {},
   "outputs": [],
   "source": [
    "lista_anni = np.arange(2015,2021)\n",
    "lista_mesi = np.arange(1,13)"
   ]
  },
  {
   "cell_type": "markdown",
   "metadata": {},
   "source": [
    "Dichiaro due liste, una per gli anni e una per i mesi - QUI E' NECESSARIO L'INTERVENTO DELL'UTENTE"
   ]
  },
  {
   "cell_type": "code",
   "execution_count": 122,
   "metadata": {},
   "outputs": [],
   "source": [
    "def configurazione(mese, anno):\n",
    "    annomese = anno * 100 + mese\n",
    "    risultato = {}\n",
    "    if (annomese == 201501):\n",
    "        risultato = {'ext' : 'xlsx','tab' : 'Dettaglio Brand & Channel', 'usecols' : 'A,C:K', 'skiprows' : 17}\n",
    "    elif (annomese >= 201502 and annomese <= 201803):\n",
    "        risultato = {'ext' : 'xlsx','tab' : 'Dettaglio Brand & Channel', 'usecols' : 'A,C:E,I:K,O:Q', 'skiprows' : 18}\n",
    "    elif (annomese >= 201804 and annomese <= 201902):\n",
    "        risultato = {'ext' : 'xlsx','tab' : 'Brand & Sub-brand', 'usecols' : 'A,C:F,K:N,S:V', 'skiprows' : 8}\n",
    "    elif (annomese >= 202005 and annomese <= 202007):\n",
    "        risultato = {'ext' : 'xls','tab' : 'Brand & Sub-brand', 'usecols' : 'A,C:F,K:N,S:V', 'skiprows' : 5}\n",
    "    else:\n",
    "        risultato = {'ext' : 'xlsx','tab' : 'Brand & Sub-brand', 'usecols' : 'A,C:F,K:N,S:V', 'skiprows' : 5}\n",
    "    return risultato "
   ]
  },
  {
   "cell_type": "markdown",
   "metadata": {},
   "source": [
    "Creo una funzione di configurazione che sceglie quali parametri utilizzare per ogni file. In questo caso in base al nome del file (es.1_2015) la funzione sceglie la condizione adatta da associare al file - QUI E' NECESSARIO L'INTERVENTO DELL'UTENTE"
   ]
  },
  {
   "cell_type": "code",
   "execution_count": 123,
   "metadata": {},
   "outputs": [],
   "source": [
    "output = []"
   ]
  },
  {
   "cell_type": "markdown",
   "metadata": {},
   "source": [
    "Dichiaro un array vuoto in cui successivamente inserirò i valori di ogni riga "
   ]
  },
  {
   "cell_type": "code",
   "execution_count": 124,
   "metadata": {},
   "outputs": [],
   "source": [
    "colonna = 'Brand'"
   ]
  },
  {
   "cell_type": "markdown",
   "metadata": {},
   "source": [
    "Dichiaro una variabile che indica la colonna che vogliao utilizzare. In questo caso la colonna è 'Brand' -QUI E' NECESSARIO L'INTERVENTO DELL'UTENTE"
   ]
  },
  {
   "cell_type": "code",
   "execution_count": 125,
   "metadata": {},
   "outputs": [],
   "source": [
    "valore = 'Giallozafferano.it'\n",
    "valore2 = 'Giallo Zafferano'"
   ]
  },
  {
   "cell_type": "markdown",
   "metadata": {},
   "source": [
    "Dichiaro due variabili che indicano il valore che voglio cercare tra le righe del file. In questo caso le variabili sono due perchè nei file più recenti il nome della riga cambia. - QUI E' NECESSARIO L'INTERVENTO DELL'UTENTE"
   ]
  },
  {
   "cell_type": "code",
   "execution_count": 126,
   "metadata": {},
   "outputs": [],
   "source": [
    "end = False "
   ]
  },
  {
   "cell_type": "markdown",
   "metadata": {},
   "source": [
    "Dichiaro una variabile che successivamente userò per concludere l'estrazione in caso di file terminati"
   ]
  },
  {
   "cell_type": "code",
   "execution_count": 127,
   "metadata": {},
   "outputs": [
    {
     "name": "stdout",
     "output_type": "stream",
     "text": [
      "Inizio estrazione\n",
      "Anno: 2015 Mese: 1\n",
      "Anno: 2015 Mese: 2\n",
      "Anno: 2015 Mese: 3\n",
      "Anno: 2015 Mese: 4\n",
      "Anno: 2015 Mese: 5\n",
      "Anno: 2015 Mese: 6\n",
      "Anno: 2015 Mese: 7\n",
      "Anno: 2015 Mese: 8\n",
      "Anno: 2015 Mese: 9\n",
      "Anno: 2015 Mese: 10\n",
      "Anno: 2015 Mese: 11\n",
      "Anno: 2015 Mese: 12\n",
      "Anno: 2016 Mese: 1\n",
      "Anno: 2016 Mese: 2\n",
      "Anno: 2016 Mese: 3\n",
      "Anno: 2016 Mese: 4\n",
      "Anno: 2016 Mese: 5\n",
      "Anno: 2016 Mese: 6\n",
      "Anno: 2016 Mese: 7\n",
      "Anno: 2016 Mese: 8\n",
      "Anno: 2016 Mese: 9\n",
      "Anno: 2016 Mese: 10\n",
      "Anno: 2016 Mese: 11\n",
      "Anno: 2016 Mese: 12\n",
      "Anno: 2017 Mese: 1\n",
      "Anno: 2017 Mese: 2\n",
      "Anno: 2017 Mese: 3\n",
      "Anno: 2017 Mese: 4\n",
      "Anno: 2017 Mese: 5\n",
      "Anno: 2017 Mese: 6\n",
      "Anno: 2017 Mese: 7\n",
      "Anno: 2017 Mese: 8\n",
      "Anno: 2017 Mese: 9\n",
      "Anno: 2017 Mese: 10\n",
      "Anno: 2017 Mese: 11\n",
      "Anno: 2017 Mese: 12\n",
      "Anno: 2018 Mese: 1\n",
      "Anno: 2018 Mese: 2\n",
      "Anno: 2018 Mese: 3\n",
      "Anno: 2018 Mese: 4\n",
      "Anno: 2018 Mese: 5\n",
      "Anno: 2018 Mese: 6\n",
      "Anno: 2018 Mese: 7\n",
      "Anno: 2018 Mese: 8\n",
      "Anno: 2018 Mese: 9\n",
      "Anno: 2018 Mese: 10\n",
      "Anno: 2018 Mese: 11\n",
      "Anno: 2018 Mese: 12\n",
      "Anno: 2019 Mese: 1\n",
      "Anno: 2019 Mese: 2\n",
      "Anno: 2019 Mese: 3\n",
      "Anno: 2019 Mese: 4\n",
      "Anno: 2019 Mese: 5\n",
      "Anno: 2019 Mese: 6\n",
      "Anno: 2019 Mese: 7\n",
      "Anno: 2019 Mese: 8\n",
      "Anno: 2019 Mese: 9\n",
      "Anno: 2019 Mese: 10\n",
      "Anno: 2019 Mese: 11\n",
      "Anno: 2019 Mese: 12\n",
      "Anno: 2020 Mese: 1\n",
      "Anno: 2020 Mese: 2\n",
      "Anno: 2020 Mese: 3\n",
      "Anno: 2020 Mese: 4\n",
      "Anno: 2020 Mese: 5\n",
      "Anno: 2020 Mese: 6\n",
      "Anno: 2020 Mese: 7\n",
      "Anno: 2020 Mese: 8\n",
      "Anno: 2020 Mese: 9\n",
      "Anno: 2020 Mese: 10\n",
      "Anno: 2020 Mese: 11\n",
      "Estrazione terminata\n"
     ]
    }
   ],
   "source": [
    "print (\"Inizio estrazione\")     #inserisco un print che segnala l'inizio dell'estrazione\n",
    "for anno in lista_anni:\n",
    "    for mese in lista_mesi:       #scorro la lista degli anni e la lista dei mesi\n",
    "        myconfig = configurazione(mese,anno)    #richiamo qui la funzione di configurazione definita precedentemente \n",
    "        file = \"DATI/\" + str(mese) + '_' + str(anno) + '.' + myconfig['ext'] #apro i file dalla mia cartella e li trovo in base a come li ho rinominati - QUI E' NECESSARIO L'INTERVENTO DELL'UTENTE\n",
    "        try:\n",
    "            xl = pd.ExcelFile(file)       #richiamo una funzione della libreria pandas e segnalo che si tratta di un file excel\n",
    "        except FileNotFoundError:        #inserisco un'eccezione che mi consente di interrompere l'estrazione se il file non viene trovato\n",
    "            print(\"Estrazione terminata\")     #stampo 'estrazione terminata' quando un file non viene trovato\n",
    "            end = True\n",
    "            break\n",
    "        if end == True:     #grazie alla variabile dichiarata precedentemente interrompo l'estrazione \n",
    "            break\n",
    "        print ('Anno: ' + str(anno) + ' Mese: ' + str(mese))     #inserisco un print per visionare uno ad uno i file che il programma sta leggendo \n",
    "        df = pd.read_excel(xl,myconfig['tab'], usecols = myconfig['usecols'], skiprows = myconfig['skiprows'])   #eseguo la funzione read_excel con i parametri precedentemente settati nella mia configurazione -  QUI E' NECESSARIO L'INTERVENTO DELL'UTENTE\n",
    "        df = df[df[colonna].str.match(pat = '(' + valore+'|' +valore2+')',na = False )]  #uso le variabili precedentemente create per cercare la colonna e il valore che mi interessano \n",
    "        df.reset_index(inplace = True)       \n",
    "        riga = {'data' : str(anno) + '-' + str(mese) + '-' + '01'}     #creo le righe nel documento di output in modo che il file sia ordinato\n",
    "        df.columns    #richiamo la lisa delle colonne del dataframe\n",
    "        for column in df.columns:    #scorro la lista delle colonne \n",
    "            riga[column] = df.iloc[0][column]   #per ogni riga inserisco i dati della colonna richiesta\n",
    "        output.append(riga)     #inserisco la riga creata nel documento di output\n",
    "        df = pd.DataFrame(output)     \n",
    "        df.to_csv('OutputEstrazione.csv')     #creo un documento csv con il mio output - QUI E' NECESSARIO L'INTERVENTO DELL'UTENTE\n",
    "        "
   ]
  },
  {
   "cell_type": "code",
   "execution_count": null,
   "metadata": {},
   "outputs": [],
   "source": []
  },
  {
   "cell_type": "code",
   "execution_count": null,
   "metadata": {},
   "outputs": [],
   "source": []
  }
 ],
 "metadata": {
  "kernelspec": {
   "display_name": "Python 3",
   "language": "python",
   "name": "python3"
  },
  "language_info": {
   "codemirror_mode": {
    "name": "ipython",
    "version": 3
   },
   "file_extension": ".py",
   "mimetype": "text/x-python",
   "name": "python",
   "nbconvert_exporter": "python",
   "pygments_lexer": "ipython3",
   "version": "3.8.2"
  }
 },
 "nbformat": 4,
 "nbformat_minor": 4
}
