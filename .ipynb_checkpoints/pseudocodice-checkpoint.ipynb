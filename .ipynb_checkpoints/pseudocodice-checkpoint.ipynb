{
 "cells": [
  {
   "cell_type": "code",
   "execution_count": null,
   "metadata": {},
   "outputs": [],
   "source": [
    "config = {'2010-01' : {'tab' : 'Brand & Channel', 'columns' : 'A-E', 'skiprows' : 3}\n",
    "\n",
    "\n",
    "\n",
    "file = pd.read_excel(skiprows=config[indice_corrente]['skiprows'], ncols=config[indice_corrente]['columns'])\n",
    "          config = [{'data_inizio' : '2010-01-01', 'data_fine' : '2020-01-01', 'tab' : 'Brand' }]\n",
    "\n",
    "for anno in range():\n",
    "for mese in range():\n",
    "nome_file = str(anno) + '_' str(mese) + '.xsls'\n",
    "data_corrente = datetime(str(anno) + '-' str(mese) + '-01')\n",
    "for i in range(0, len(config)):\n",
    "data_inizio = datetime(config[i]['data_inizio'])\n",
    "data_fine = datetime(config[i]['data_fine'])\n",
    "if data corrente è compresa tra le due date:\n",
    "config[i]['tab']\n",
    "break"
   ]
  }
 ],
 "metadata": {
  "kernelspec": {
   "display_name": "Python 3",
   "language": "python",
   "name": "python3"
  },
  "language_info": {
   "codemirror_mode": {
    "name": "ipython",
    "version": 3
   },
   "file_extension": ".py",
   "mimetype": "text/x-python",
   "name": "python",
   "nbconvert_exporter": "python",
   "pygments_lexer": "ipython3",
   "version": "3.8.2"
  }
 },
 "nbformat": 4,
 "nbformat_minor": 4
}
