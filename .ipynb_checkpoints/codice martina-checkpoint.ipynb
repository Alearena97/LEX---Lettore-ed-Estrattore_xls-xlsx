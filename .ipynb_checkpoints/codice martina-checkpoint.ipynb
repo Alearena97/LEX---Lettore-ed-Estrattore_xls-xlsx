{
 "cells": [
  {
   "cell_type": "code",
   "execution_count": 9,
   "metadata": {},
   "outputs": [],
   "source": [
    "import pandas as pd"
   ]
  },
  {
   "cell_type": "code",
   "execution_count": 10,
   "metadata": {},
   "outputs": [],
   "source": [
    "import numpy as np"
   ]
  },
  {
   "cell_type": "code",
   "execution_count": 11,
   "metadata": {},
   "outputs": [],
   "source": [
    "lista_anni = np.arange(2020,2021)\n",
    "lista_mesi = np.arange(1,13)"
   ]
  },
  {
   "cell_type": "code",
   "execution_count": 12,
   "metadata": {},
   "outputs": [],
   "source": [
    "#config1 = {#'data_inizio' : '201501', 'data_fine' : '201501' : {'tab' : 'Dettaglio Brand & Channel', 'columns' : 'A,C:K', 'skiprows' : 17}}\n",
    "#config2 = {#'data_inizio' : '201502', 'data_fine' : '201803' : {'tab' : 'Dettaglio Brand & Channel', 'columns' : 'A,C:E,I:K,O:Q', 'skiprows' : 18}}\n",
    "#config3 = {#'data_inizio' : '201804', 'data_fine' : '201902' : {'tab' : 'Brand & Sub-brand', 'columns' : 'A,C:F,K:N,S:V', 'skiprows' : 8}}\n",
    "#config4 = {#'data_inizio' : '201903', 'data_fine' : '202004' : {'tab' : 'Brand & Sub-brand', 'columns' : 'A,C:F,K:N,S:V', 'skiprows' : 5}}"
   ]
  },
  {
   "cell_type": "code",
   "execution_count": 13,
   "metadata": {},
   "outputs": [],
   "source": [
    "def configurazione(mese, anno):\n",
    "    annomese = anno * 100 + mese\n",
    "    risultato = {}\n",
    "    risultato = {'tab' : 'Italiano', 'usecols' : 'A,C:H', 'skiprows' : 3}\n",
    "    return risultato "
   ]
  },
  {
   "cell_type": "code",
   "execution_count": 14,
   "metadata": {},
   "outputs": [],
   "source": [
    "output = []\n",
    "colonna = 'PRODOTTO'\n",
    "valore = 'PETROLIO'\n",
    "\n"
   ]
  },
  {
   "cell_type": "code",
   "execution_count": 18,
   "metadata": {},
   "outputs": [
    {
     "name": "stdout",
     "output_type": "stream",
     "text": [
      "Inizio estrazione\n",
      "Anno: 2020 Mese: 1\n",
      "Anno: 2020 Mese: 2\n",
      "Anno: 2020 Mese: 3\n",
      "Anno: 2020 Mese: 4\n",
      "Anno: 2020 Mese: 5\n",
      "Anno: 2020 Mese: 6\n",
      "Anno: 2020 Mese: 7\n",
      "Anno: 2020 Mese: 8\n",
      "Anno: 2020 Mese: 9\n",
      "Anno: 2020 Mese: 10\n",
      "Anno: 2020 Mese: 11\n",
      "Anno: 2020 Mese: 12\n"
     ]
    }
   ],
   "source": [
    "end = False \n",
    "print (\"Inizio estrazione\")\n",
    "for anno in lista_anni:\n",
    "    for mese in lista_mesi:\n",
    "        myconfig = configurazione(mese,anno)\n",
    "        file = \"DATIALTERNATIVI/\" + str(mese) + '_' + str(anno) + '.xls' \n",
    "        try:\n",
    "            xl = pd.ExcelFile(file)\n",
    "        except FileNotFoundError:\n",
    "            print(\"Estrazione terminata\")\n",
    "            end = True\n",
    "            break\n",
    "        if end == True:\n",
    "            break\n",
    "        print ('Anno: ' + str(anno) + ' Mese: ' + str(mese))\n",
    "        df = pd.read_excel(xl,myconfig['tab'], usecols = myconfig['usecols'], skiprows = myconfig['skiprows'])\n",
    "        df = df.dropna()\n",
    "        df = df[df[colonna].str.match(valore)]\n",
    "        df.reset_index(inplace = True)\n",
    "        riga = {'data' : str(anno) + '-' + str(mese) + '-' + '01'}\n",
    "        df.columns # lista colonne\n",
    "        for column in df.columns:\n",
    "            riga[column] = df.iloc[0][column]   \n",
    "        output.append(riga)\n",
    "        df = pd.DataFrame(output)\n",
    "        df.to_csv('prova2.csv')\n",
    "        "
   ]
  },
  {
   "cell_type": "code",
   "execution_count": null,
   "metadata": {},
   "outputs": [],
   "source": []
  },
  {
   "cell_type": "code",
   "execution_count": null,
   "metadata": {},
   "outputs": [],
   "source": []
  }
 ],
 "metadata": {
  "kernelspec": {
   "display_name": "Python 3",
   "language": "python",
   "name": "python3"
  },
  "language_info": {
   "codemirror_mode": {
    "name": "ipython",
    "version": 3
   },
   "file_extension": ".py",
   "mimetype": "text/x-python",
   "name": "python",
   "nbconvert_exporter": "python",
   "pygments_lexer": "ipython3",
   "version": "3.8.2"
  }
 },
 "nbformat": 4,
 "nbformat_minor": 4
}
