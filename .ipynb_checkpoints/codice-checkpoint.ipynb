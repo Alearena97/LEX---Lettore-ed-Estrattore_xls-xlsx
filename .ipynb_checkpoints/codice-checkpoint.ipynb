{
 "cells": [
  {
   "cell_type": "code",
   "execution_count": 1,
   "metadata": {},
   "outputs": [],
   "source": [
    "import pandas as pd"
   ]
  },
  {
   "cell_type": "code",
   "execution_count": 2,
   "metadata": {},
   "outputs": [],
   "source": [
    "import numpy as np"
   ]
  },
  {
   "cell_type": "code",
   "execution_count": 3,
   "metadata": {},
   "outputs": [],
   "source": [
    "lista_anni = np.arange(2015,2016)\n",
    "lista_mesi = np.arange(2,5)"
   ]
  },
  {
   "cell_type": "code",
   "execution_count": 4,
   "metadata": {},
   "outputs": [],
   "source": [
    "# file = 'DATI/2015/gennaio_2015.xlsx'\n",
    "# xl = pd.ExcelFile(file)"
   ]
  },
  {
   "cell_type": "code",
   "execution_count": 5,
   "metadata": {},
   "outputs": [],
   "source": [
    " # def estrai(file):\n",
    "    \n",
    "    #df[df['Brand'].str.match('Giallozafferano.it')]\n",
    "   # parametrizzare skiprows e dettaglio brand e channel \n",
    "output = []"
   ]
  },
  {
   "cell_type": "code",
   "execution_count": 6,
   "metadata": {},
   "outputs": [],
   "source": [
    "\n",
    "\n",
    "for anno in lista_anni:\n",
    "    for mese in lista_mesi:\n",
    "        file = \"DATI/2015/\" + str(mese) + '_' + str(anno) + '.xlsx'\n",
    "        xl = pd.ExcelFile(file)\n",
    "        df = pd.read_excel(xl, 'Dettaglio Brand & Channel',skiprows=18, usecols=\"A:Q\")\n",
    "        df = df.drop('Channel', axis=1)\n",
    "        df = df.drop('TDA.1', axis=1)\n",
    "        df = df.drop('PC.1', axis=1)\n",
    "        df = df.drop('MOBILE.1', axis=1)\n",
    "        df = df.drop('TDA.3', axis=1)\n",
    "        df = df.drop('PC.3', axis=1)\n",
    "        df = df.drop('MOBILE.3', axis=1)\n",
    "        df = df[df['Brand'].str.match('Giallozafferano.it')]\n",
    "        df.reset_index(inplace = True)\n",
    "        riga = {'data' : str(anno) + '-' + str(mese) + '-' + '01'}\n",
    "        df.columns # lista colonne\n",
    "        for column in df.columns:\n",
    "            riga[column] = df.iloc[0][column]   \n",
    "        output.append(riga)\n",
    "        df = pd.DataFrame(output)\n",
    "        df.to_csv('prova.csv')\n",
    "        \n",
    "      "
   ]
  },
  {
   "cell_type": "code",
   "execution_count": null,
   "metadata": {},
   "outputs": [],
   "source": []
  },
  {
   "cell_type": "code",
   "execution_count": null,
   "metadata": {},
   "outputs": [],
   "source": []
  }
 ],
 "metadata": {
  "kernelspec": {
   "display_name": "Python 3",
   "language": "python",
   "name": "python3"
  },
  "language_info": {
   "codemirror_mode": {
    "name": "ipython",
    "version": 3
   },
   "file_extension": ".py",
   "mimetype": "text/x-python",
   "name": "python",
   "nbconvert_exporter": "python",
   "pygments_lexer": "ipython3",
   "version": "3.8.2"
  }
 },
 "nbformat": 4,
 "nbformat_minor": 4
}
