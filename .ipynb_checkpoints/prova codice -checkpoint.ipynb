{
 "cells": [
  {
   "cell_type": "code",
   "execution_count": 64,
   "metadata": {},
   "outputs": [],
   "source": [
    "import pandas as pd"
   ]
  },
  {
   "cell_type": "code",
   "execution_count": 65,
   "metadata": {},
   "outputs": [],
   "source": [
    "import numpy as np"
   ]
  },
  {
   "cell_type": "code",
   "execution_count": 66,
   "metadata": {},
   "outputs": [],
   "source": [
    "lista_anni = np.arange(2015,2020)\n",
    "lista_mesi = np.arange(1,13)"
   ]
  },
  {
   "cell_type": "code",
   "execution_count": 67,
   "metadata": {},
   "outputs": [],
   "source": [
    "#config1 = {#'data_inizio' : '201501', 'data_fine' : '201501' : {'tab' : 'Dettaglio Brand & Channel', 'columns' : 'A,C:K', 'skiprows' : 17}}\n",
    "#config2 = {#'data_inizio' : '201502', 'data_fine' : '201803' : {'tab' : 'Dettaglio Brand & Channel', 'columns' : 'A,C:E,I:K,O:Q', 'skiprows' : 18}}\n",
    "#config3 = {#'data_inizio' : '201804', 'data_fine' : '201902' : {'tab' : 'Brand & Sub-brand', 'columns' : 'A,C:F,K:N,S:V', 'skiprows' : 8}}\n",
    "#config4 = {#'data_inizio' : '201903', 'data_fine' : '202004' : {'tab' : 'Brand & Sub-brand', 'columns' : 'A,C:F,K:N,S:V', 'skiprows' : 5}}"
   ]
  },
  {
   "cell_type": "code",
   "execution_count": 68,
   "metadata": {},
   "outputs": [],
   "source": [
    "def configurazione(mese, anno):\n",
    "    annomese = anno * 100 + mese\n",
    "    risultato = {}\n",
    "    if (annomese == 201501):\n",
    "        risultato = {'tab' : 'Dettaglio Brand & Channel', 'usecols' : 'A,C:K', 'skiprows' : 17}\n",
    "    elif (annomese >= 201502 and annomese <= 201803):\n",
    "        risultato = {'tab' : 'Dettaglio Brand & Channel', 'usecols' : 'A,C:E,I:K,O:Q', 'skiprows' : 18}\n",
    "    elif (annomese >= 201804 and annomese <= 201902):\n",
    "        risultato = {'tab' : 'Brand & Sub-brand', 'usecols' : 'A,C:F,K:N,S:V', 'skiprows' : 8}\n",
    "    else:\n",
    "        risultato = {'tab' : 'Brand & Sub-brand', 'usecols' : 'A,C:F,K:N,S:V', 'skiprows' : 5}\n",
    "    return risultato "
   ]
  },
  {
   "cell_type": "code",
   "execution_count": 69,
   "metadata": {},
   "outputs": [],
   "source": [
    "output = []\n",
    "colonna = 'Brand'\n",
    "valore = 'Giallozafferano.it'\n"
   ]
  },
  {
   "cell_type": "code",
   "execution_count": 70,
   "metadata": {},
   "outputs": [
    {
     "name": "stdout",
     "output_type": "stream",
     "text": [
      "{'tab': 'Dettaglio Brand & Channel', 'usecols': 'A,C:K', 'skiprows': 17}\n",
      "{'tab': 'Dettaglio Brand & Channel', 'usecols': 'A,C:E,I:K,O:Q', 'skiprows': 18}\n",
      "{'tab': 'Dettaglio Brand & Channel', 'usecols': 'A,C:E,I:K,O:Q', 'skiprows': 18}\n",
      "{'tab': 'Dettaglio Brand & Channel', 'usecols': 'A,C:E,I:K,O:Q', 'skiprows': 18}\n",
      "{'tab': 'Dettaglio Brand & Channel', 'usecols': 'A,C:E,I:K,O:Q', 'skiprows': 18}\n",
      "{'tab': 'Dettaglio Brand & Channel', 'usecols': 'A,C:E,I:K,O:Q', 'skiprows': 18}\n",
      "{'tab': 'Dettaglio Brand & Channel', 'usecols': 'A,C:E,I:K,O:Q', 'skiprows': 18}\n",
      "{'tab': 'Dettaglio Brand & Channel', 'usecols': 'A,C:E,I:K,O:Q', 'skiprows': 18}\n",
      "{'tab': 'Dettaglio Brand & Channel', 'usecols': 'A,C:E,I:K,O:Q', 'skiprows': 18}\n",
      "{'tab': 'Dettaglio Brand & Channel', 'usecols': 'A,C:E,I:K,O:Q', 'skiprows': 18}\n",
      "{'tab': 'Dettaglio Brand & Channel', 'usecols': 'A,C:E,I:K,O:Q', 'skiprows': 18}\n",
      "{'tab': 'Dettaglio Brand & Channel', 'usecols': 'A,C:E,I:K,O:Q', 'skiprows': 18}\n",
      "{'tab': 'Dettaglio Brand & Channel', 'usecols': 'A,C:E,I:K,O:Q', 'skiprows': 18}\n",
      "{'tab': 'Dettaglio Brand & Channel', 'usecols': 'A,C:E,I:K,O:Q', 'skiprows': 18}\n",
      "{'tab': 'Dettaglio Brand & Channel', 'usecols': 'A,C:E,I:K,O:Q', 'skiprows': 18}\n",
      "{'tab': 'Dettaglio Brand & Channel', 'usecols': 'A,C:E,I:K,O:Q', 'skiprows': 18}\n",
      "{'tab': 'Dettaglio Brand & Channel', 'usecols': 'A,C:E,I:K,O:Q', 'skiprows': 18}\n",
      "{'tab': 'Dettaglio Brand & Channel', 'usecols': 'A,C:E,I:K,O:Q', 'skiprows': 18}\n",
      "{'tab': 'Dettaglio Brand & Channel', 'usecols': 'A,C:E,I:K,O:Q', 'skiprows': 18}\n",
      "{'tab': 'Dettaglio Brand & Channel', 'usecols': 'A,C:E,I:K,O:Q', 'skiprows': 18}\n"
     ]
    },
    {
     "ename": "ValueError",
     "evalue": "Cannot mask with non-boolean array containing NA / NaN values",
     "output_type": "error",
     "traceback": [
      "\u001b[1;31m---------------------------------------------------------------------------\u001b[0m",
      "\u001b[1;31mValueError\u001b[0m                                Traceback (most recent call last)",
      "\u001b[1;32m<ipython-input-70-260d4c6cd355>\u001b[0m in \u001b[0;36m<module>\u001b[1;34m\u001b[0m\n\u001b[0;32m      6\u001b[0m         \u001b[0mprint\u001b[0m \u001b[1;33m(\u001b[0m\u001b[0mmyconfig\u001b[0m\u001b[1;33m)\u001b[0m\u001b[1;33m\u001b[0m\u001b[1;33m\u001b[0m\u001b[0m\n\u001b[0;32m      7\u001b[0m         \u001b[0mdf\u001b[0m \u001b[1;33m=\u001b[0m \u001b[0mpd\u001b[0m\u001b[1;33m.\u001b[0m\u001b[0mread_excel\u001b[0m\u001b[1;33m(\u001b[0m\u001b[0mxl\u001b[0m\u001b[1;33m,\u001b[0m\u001b[0mmyconfig\u001b[0m\u001b[1;33m[\u001b[0m\u001b[1;34m'tab'\u001b[0m\u001b[1;33m]\u001b[0m\u001b[1;33m,\u001b[0m \u001b[0musecols\u001b[0m \u001b[1;33m=\u001b[0m \u001b[0mmyconfig\u001b[0m\u001b[1;33m[\u001b[0m\u001b[1;34m'usecols'\u001b[0m\u001b[1;33m]\u001b[0m\u001b[1;33m,\u001b[0m \u001b[0mskiprows\u001b[0m \u001b[1;33m=\u001b[0m \u001b[0mmyconfig\u001b[0m\u001b[1;33m[\u001b[0m\u001b[1;34m'skiprows'\u001b[0m\u001b[1;33m]\u001b[0m\u001b[1;33m)\u001b[0m\u001b[1;33m\u001b[0m\u001b[1;33m\u001b[0m\u001b[0m\n\u001b[1;32m----> 8\u001b[1;33m         \u001b[0mdf\u001b[0m \u001b[1;33m=\u001b[0m \u001b[0mdf\u001b[0m\u001b[1;33m[\u001b[0m\u001b[0mdf\u001b[0m\u001b[1;33m[\u001b[0m\u001b[0mcolonna\u001b[0m\u001b[1;33m]\u001b[0m\u001b[1;33m.\u001b[0m\u001b[0mstr\u001b[0m\u001b[1;33m.\u001b[0m\u001b[0mmatch\u001b[0m\u001b[1;33m(\u001b[0m\u001b[0mvalore\u001b[0m\u001b[1;33m)\u001b[0m\u001b[1;33m]\u001b[0m\u001b[1;33m\u001b[0m\u001b[1;33m\u001b[0m\u001b[0m\n\u001b[0m\u001b[0;32m      9\u001b[0m         \u001b[1;31m#if colonna and valore == False:\u001b[0m\u001b[1;33m\u001b[0m\u001b[1;33m\u001b[0m\u001b[1;33m\u001b[0m\u001b[0m\n\u001b[0;32m     10\u001b[0m            \u001b[1;31m# output.append[0](riga)\u001b[0m\u001b[1;33m\u001b[0m\u001b[1;33m\u001b[0m\u001b[1;33m\u001b[0m\u001b[0m\n",
      "\u001b[1;32mc:\\users\\theda\\appdata\\local\\programs\\python\\python38\\lib\\site-packages\\pandas\\core\\frame.py\u001b[0m in \u001b[0;36m__getitem__\u001b[1;34m(self, key)\u001b[0m\n\u001b[0;32m   2890\u001b[0m \u001b[1;33m\u001b[0m\u001b[0m\n\u001b[0;32m   2891\u001b[0m         \u001b[1;31m# Do we have a (boolean) 1d indexer?\u001b[0m\u001b[1;33m\u001b[0m\u001b[1;33m\u001b[0m\u001b[1;33m\u001b[0m\u001b[0m\n\u001b[1;32m-> 2892\u001b[1;33m         \u001b[1;32mif\u001b[0m \u001b[0mcom\u001b[0m\u001b[1;33m.\u001b[0m\u001b[0mis_bool_indexer\u001b[0m\u001b[1;33m(\u001b[0m\u001b[0mkey\u001b[0m\u001b[1;33m)\u001b[0m\u001b[1;33m:\u001b[0m\u001b[1;33m\u001b[0m\u001b[1;33m\u001b[0m\u001b[0m\n\u001b[0m\u001b[0;32m   2893\u001b[0m             \u001b[1;32mreturn\u001b[0m \u001b[0mself\u001b[0m\u001b[1;33m.\u001b[0m\u001b[0m_getitem_bool_array\u001b[0m\u001b[1;33m(\u001b[0m\u001b[0mkey\u001b[0m\u001b[1;33m)\u001b[0m\u001b[1;33m\u001b[0m\u001b[1;33m\u001b[0m\u001b[0m\n\u001b[0;32m   2894\u001b[0m \u001b[1;33m\u001b[0m\u001b[0m\n",
      "\u001b[1;32mc:\\users\\theda\\appdata\\local\\programs\\python\\python38\\lib\\site-packages\\pandas\\core\\common.py\u001b[0m in \u001b[0;36mis_bool_indexer\u001b[1;34m(key)\u001b[0m\n\u001b[0;32m    132\u001b[0m                 \u001b[0mna_msg\u001b[0m \u001b[1;33m=\u001b[0m \u001b[1;34m\"Cannot mask with non-boolean array containing NA / NaN values\"\u001b[0m\u001b[1;33m\u001b[0m\u001b[1;33m\u001b[0m\u001b[0m\n\u001b[0;32m    133\u001b[0m                 \u001b[1;32mif\u001b[0m \u001b[0misna\u001b[0m\u001b[1;33m(\u001b[0m\u001b[0mkey\u001b[0m\u001b[1;33m)\u001b[0m\u001b[1;33m.\u001b[0m\u001b[0many\u001b[0m\u001b[1;33m(\u001b[0m\u001b[1;33m)\u001b[0m\u001b[1;33m:\u001b[0m\u001b[1;33m\u001b[0m\u001b[1;33m\u001b[0m\u001b[0m\n\u001b[1;32m--> 134\u001b[1;33m                     \u001b[1;32mraise\u001b[0m \u001b[0mValueError\u001b[0m\u001b[1;33m(\u001b[0m\u001b[0mna_msg\u001b[0m\u001b[1;33m)\u001b[0m\u001b[1;33m\u001b[0m\u001b[1;33m\u001b[0m\u001b[0m\n\u001b[0m\u001b[0;32m    135\u001b[0m                 \u001b[1;32mreturn\u001b[0m \u001b[1;32mFalse\u001b[0m\u001b[1;33m\u001b[0m\u001b[1;33m\u001b[0m\u001b[0m\n\u001b[0;32m    136\u001b[0m             \u001b[1;32mreturn\u001b[0m \u001b[1;32mTrue\u001b[0m\u001b[1;33m\u001b[0m\u001b[1;33m\u001b[0m\u001b[0m\n",
      "\u001b[1;31mValueError\u001b[0m: Cannot mask with non-boolean array containing NA / NaN values"
     ]
    }
   ],
   "source": [
    "for anno in lista_anni:\n",
    "    for mese in lista_mesi:\n",
    "        file = \"DATIUNICA/\" + str(mese) + '_' + str(anno) + '.xlsx'\n",
    "        xl = pd.ExcelFile(file)\n",
    "        myconfig = configurazione(mese,anno)\n",
    "        print (myconfig)\n",
    "        df = pd.read_excel(xl,myconfig['tab'], usecols = myconfig['usecols'], skiprows = myconfig['skiprows'])\n",
    "        df = df[df[colonna].str.match(valore)]\n",
    "        #if colonna and valore == False:\n",
    "           # output.append[0](riga)    \n",
    "        df.reset_index(inplace = True)\n",
    "        riga = {'data' : str(anno) + '-' + str(mese) + '-' + '01'}\n",
    "        df.columns # lista colonne\n",
    "        for column in df.columns:\n",
    "            riga[column] = df.iloc[0][column]   \n",
    "        output.append(riga)\n",
    "        df = pd.DataFrame(output)\n",
    "        df.to_csv('prova1.csv')\n",
    "        "
   ]
  },
  {
   "cell_type": "code",
   "execution_count": null,
   "metadata": {},
   "outputs": [],
   "source": []
  },
  {
   "cell_type": "code",
   "execution_count": null,
   "metadata": {},
   "outputs": [],
   "source": []
  }
 ],
 "metadata": {
  "kernelspec": {
   "display_name": "Python 3",
   "language": "python",
   "name": "python3"
  },
  "language_info": {
   "codemirror_mode": {
    "name": "ipython",
    "version": 3
   },
   "file_extension": ".py",
   "mimetype": "text/x-python",
   "name": "python",
   "nbconvert_exporter": "python",
   "pygments_lexer": "ipython3",
   "version": "3.8.2"
  }
 },
 "nbformat": 4,
 "nbformat_minor": 4
}
