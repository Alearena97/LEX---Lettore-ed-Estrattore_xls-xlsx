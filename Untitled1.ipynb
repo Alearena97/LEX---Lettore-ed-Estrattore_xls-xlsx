{
 "cells": [
  {
   "cell_type": "code",
   "execution_count": 2,
   "metadata": {},
   "outputs": [],
   "source": [
    "import pandas as pd"
   ]
  },
  {
   "cell_type": "code",
   "execution_count": 3,
   "metadata": {},
   "outputs": [],
   "source": [
    "import numpy as np"
   ]
  },
  {
   "cell_type": "code",
   "execution_count": 4,
   "metadata": {},
   "outputs": [],
   "source": [
    "lista_anni = np.arange(2015,2016)\n",
    "lista_mesi = np.arange(2,5)"
   ]
  },
  {
   "cell_type": "code",
   "execution_count": 5,
   "metadata": {},
   "outputs": [],
   "source": [
    "# file = 'DATI/2015/gennaio_2015.xlsx'\n",
    "# xl = pd.ExcelFile(file)"
   ]
  },
  {
   "cell_type": "code",
   "execution_count": 7,
   "metadata": {},
   "outputs": [],
   "source": [
    " # def estrai(file):\n",
    "    \n",
    "    #df[df['Brand'].str.match('Giallozafferano.it')]\n",
    "   # parametrizzare skiprows e dettaglio brand e channel \n"
   ]
  },
  {
   "cell_type": "code",
   "execution_count": 9,
   "metadata": {},
   "outputs": [
    {
     "name": "stdout",
     "output_type": "stream",
     "text": [
      "{'data': '2015-2-01', 'Brand': '3000.tv                                           '}\n",
      "{'data': '2015-2-01', 'Brand': '3000.tv                                           ', 'TDA': 450}\n",
      "{'data': '2015-2-01', 'Brand': '3000.tv                                           ', 'TDA': 450, 'PC': 0}\n",
      "{'data': '2015-2-01', 'Brand': '3000.tv                                           ', 'TDA': 450, 'PC': 0, 'MOBILE': 450}\n",
      "{'data': '2015-2-01', 'Brand': '3000.tv                                           ', 'TDA': 450, 'PC': 0, 'MOBILE': 450, 'TDA.2': 0}\n",
      "{'data': '2015-2-01', 'Brand': '3000.tv                                           ', 'TDA': 450, 'PC': 0, 'MOBILE': 450, 'TDA.2': 0, 'PC.2': 0}\n",
      "{'data': '2015-2-01', 'Brand': '3000.tv                                           ', 'TDA': 450, 'PC': 0, 'MOBILE': 450, 'TDA.2': 0, 'PC.2': 0, 'MOBILE.2': 0}\n",
      "{'data': '2015-2-01', 'Brand': '3000.tv                                           ', 'TDA': 450, 'PC': 0, 'MOBILE': 450, 'TDA.2': 0, 'PC.2': 0, 'MOBILE.2': 0, 'TDA.4': '  00:03'}\n",
      "{'data': '2015-2-01', 'Brand': '3000.tv                                           ', 'TDA': 450, 'PC': 0, 'MOBILE': 450, 'TDA.2': 0, 'PC.2': 0, 'MOBILE.2': 0, 'TDA.4': '  00:03', 'PC.4': '  00:00'}\n",
      "{'data': '2015-2-01', 'Brand': '3000.tv                                           ', 'TDA': 450, 'PC': 0, 'MOBILE': 450, 'TDA.2': 0, 'PC.2': 0, 'MOBILE.2': 0, 'TDA.4': '  00:03', 'PC.4': '  00:00', 'MOBILE.4': '  00:03'}\n",
      "{'data': '2015-2-01', 'Brand': '3000.tv                                           ', 'TDA': 450, 'PC': 0, 'MOBILE': 450, 'TDA.2': 0, 'PC.2': 0, 'MOBILE.2': 0, 'TDA.4': '  00:03', 'PC.4': '  00:00', 'MOBILE.4': '  00:03', 'Unnamed: 17': nan}\n",
      "{'data': '2015-3-01', 'Brand': '3000.tv                                                                                             '}\n",
      "{'data': '2015-3-01', 'Brand': '3000.tv                                                                                             ', 'TDA': 13}\n",
      "{'data': '2015-3-01', 'Brand': '3000.tv                                                                                             ', 'TDA': 13, 'PC': 0}\n",
      "{'data': '2015-3-01', 'Brand': '3000.tv                                                                                             ', 'TDA': 13, 'PC': 0, 'MOBILE': 13}\n",
      "{'data': '2015-3-01', 'Brand': '3000.tv                                                                                             ', 'TDA': 13, 'PC': 0, 'MOBILE': 13, 'TDA.2': 0}\n",
      "{'data': '2015-3-01', 'Brand': '3000.tv                                                                                             ', 'TDA': 13, 'PC': 0, 'MOBILE': 13, 'TDA.2': 0, 'PC.2': 0}\n",
      "{'data': '2015-3-01', 'Brand': '3000.tv                                                                                             ', 'TDA': 13, 'PC': 0, 'MOBILE': 13, 'TDA.2': 0, 'PC.2': 0, 'MOBILE.2': 0}\n",
      "{'data': '2015-3-01', 'Brand': '3000.tv                                                                                             ', 'TDA': 13, 'PC': 0, 'MOBILE': 13, 'TDA.2': 0, 'PC.2': 0, 'MOBILE.2': 0, 'TDA.4': '  00:01'}\n",
      "{'data': '2015-3-01', 'Brand': '3000.tv                                                                                             ', 'TDA': 13, 'PC': 0, 'MOBILE': 13, 'TDA.2': 0, 'PC.2': 0, 'MOBILE.2': 0, 'TDA.4': '  00:01', 'PC.4': '  00:00'}\n",
      "{'data': '2015-3-01', 'Brand': '3000.tv                                                                                             ', 'TDA': 13, 'PC': 0, 'MOBILE': 13, 'TDA.2': 0, 'PC.2': 0, 'MOBILE.2': 0, 'TDA.4': '  00:01', 'PC.4': '  00:00', 'MOBILE.4': '  00:01'}\n",
      "{'data': '2015-3-01', 'Brand': '3000.tv                                                                                             ', 'TDA': 13, 'PC': 0, 'MOBILE': 13, 'TDA.2': 0, 'PC.2': 0, 'MOBILE.2': 0, 'TDA.4': '  00:01', 'PC.4': '  00:00', 'MOBILE.4': '  00:01', 'Unnamed: 17': nan}\n",
      "{'data': '2015-4-01', 'Brand': '3000.tv                                                                                             '}\n",
      "{'data': '2015-4-01', 'Brand': '3000.tv                                                                                             ', 'TDA': 160}\n",
      "{'data': '2015-4-01', 'Brand': '3000.tv                                                                                             ', 'TDA': 160, 'PC': 0}\n",
      "{'data': '2015-4-01', 'Brand': '3000.tv                                                                                             ', 'TDA': 160, 'PC': 0, 'MOBILE': 160}\n",
      "{'data': '2015-4-01', 'Brand': '3000.tv                                                                                             ', 'TDA': 160, 'PC': 0, 'MOBILE': 160, 'TDA.2': 0}\n",
      "{'data': '2015-4-01', 'Brand': '3000.tv                                                                                             ', 'TDA': 160, 'PC': 0, 'MOBILE': 160, 'TDA.2': 0, 'PC.2': 0}\n",
      "{'data': '2015-4-01', 'Brand': '3000.tv                                                                                             ', 'TDA': 160, 'PC': 0, 'MOBILE': 160, 'TDA.2': 0, 'PC.2': 0, 'MOBILE.2': 0}\n",
      "{'data': '2015-4-01', 'Brand': '3000.tv                                                                                             ', 'TDA': 160, 'PC': 0, 'MOBILE': 160, 'TDA.2': 0, 'PC.2': 0, 'MOBILE.2': 0, 'TDA.4': '  00:04'}\n",
      "{'data': '2015-4-01', 'Brand': '3000.tv                                                                                             ', 'TDA': 160, 'PC': 0, 'MOBILE': 160, 'TDA.2': 0, 'PC.2': 0, 'MOBILE.2': 0, 'TDA.4': '  00:04', 'PC.4': '  00:00'}\n",
      "{'data': '2015-4-01', 'Brand': '3000.tv                                                                                             ', 'TDA': 160, 'PC': 0, 'MOBILE': 160, 'TDA.2': 0, 'PC.2': 0, 'MOBILE.2': 0, 'TDA.4': '  00:04', 'PC.4': '  00:00', 'MOBILE.4': '  00:04'}\n",
      "{'data': '2015-4-01', 'Brand': '3000.tv                                                                                             ', 'TDA': 160, 'PC': 0, 'MOBILE': 160, 'TDA.2': 0, 'PC.2': 0, 'MOBILE.2': 0, 'TDA.4': '  00:04', 'PC.4': '  00:00', 'MOBILE.4': '  00:04', 'Unnamed: 17': '  00:04'}\n",
      "{'data': '2015-4-01', 'Brand': '3000.tv                                                                                             ', 'TDA': 160, 'PC': 0, 'MOBILE': 160, 'TDA.2': 0, 'PC.2': 0, 'MOBILE.2': 0, 'TDA.4': '  00:04', 'PC.4': '  00:00', 'MOBILE.4': '  00:04', 'Unnamed: 17': '  00:04', 'Unnamed: 18': '  00:00'}\n",
      "{'data': '2015-4-01', 'Brand': '3000.tv                                                                                             ', 'TDA': 160, 'PC': 0, 'MOBILE': 160, 'TDA.2': 0, 'PC.2': 0, 'MOBILE.2': 0, 'TDA.4': '  00:04', 'PC.4': '  00:00', 'MOBILE.4': '  00:04', 'Unnamed: 17': '  00:04', 'Unnamed: 18': '  00:00', 'Unnamed: 19': '  00:04'}\n"
     ]
    }
   ],
   "source": [
    "output: []\n",
    "\n",
    "for anno in lista_anni:\n",
    "    for mese in lista_mesi:\n",
    "        file = \"DATI/2015/\" + str(mese) + '_' + str(anno) + '.xlsx'\n",
    "        xl = pd.ExcelFile(file)\n",
    "        df = pd.read_excel(xl, 'Dettaglio Brand & Channel',skiprows=18 )\n",
    "        df = df.drop('Channel', axis=1)\n",
    "        df = df.drop('TDA.1', axis=1)\n",
    "        df = df.drop('PC.1', axis=1)\n",
    "        df = df.drop('MOBILE.1', axis=1)\n",
    "        df = df.drop('TDA.3', axis=1)\n",
    "        df = df.drop('PC.3', axis=1)\n",
    "        df = df.drop('MOBILE.3', axis=1)\n",
    "        df[df['Brand'].str.match('Giallozafferano.it')]\n",
    "        riga = {'data' : str(anno) + '-' + str(mese) + '-' + '01'}\n",
    "        df.columns # lista colonne\n",
    "        for column in df.columns:\n",
    "            riga[column] = df[column][0] # verificare\n",
    "            print(riga)\n",
    "        #output.append(riga)\n",
    "        #print(output)\n",
    "      "
   ]
  },
  {
   "cell_type": "code",
   "execution_count": null,
   "metadata": {},
   "outputs": [],
   "source": []
  },
  {
   "cell_type": "code",
   "execution_count": null,
   "metadata": {},
   "outputs": [],
   "source": []
  }
 ],
 "metadata": {
  "kernelspec": {
   "display_name": "Python 3",
   "language": "python",
   "name": "python3"
  },
  "language_info": {
   "codemirror_mode": {
    "name": "ipython",
    "version": 3
   },
   "file_extension": ".py",
   "mimetype": "text/x-python",
   "name": "python",
   "nbconvert_exporter": "python",
   "pygments_lexer": "ipython3",
   "version": "3.8.2"
  }
 },
 "nbformat": 4,
 "nbformat_minor": 4
}
