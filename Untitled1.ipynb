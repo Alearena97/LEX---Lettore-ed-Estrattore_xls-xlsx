{
 "cells": [
  {
   "cell_type": "code",
   "execution_count": 2,
   "metadata": {},
   "outputs": [],
   "source": [
    "import pandas as pd"
   ]
  },
  {
   "cell_type": "code",
   "execution_count": 3,
   "metadata": {},
   "outputs": [],
   "source": [
    "import numpy as np"
   ]
  },
  {
   "cell_type": "code",
   "execution_count": 4,
   "metadata": {},
   "outputs": [],
   "source": [
    "lista_anni = np.arange(2015,2016)\n",
    "lista_mesi = np.arange(2,5)"
   ]
  },
  {
   "cell_type": "code",
   "execution_count": 5,
   "metadata": {},
   "outputs": [],
   "source": [
    "# file = 'DATI/2015/gennaio_2015.xlsx'\n",
    "# xl = pd.ExcelFile(file)"
   ]
  },
  {
   "cell_type": "code",
   "execution_count": 6,
   "metadata": {},
   "outputs": [],
   "source": [
    " # def estrai(file):\n",
    "    \n",
    "    #df[df['Brand'].str.match('Giallozafferano.it')]\n",
    "   # parametrizzare skiprows e dettaglio brand e channel \n",
    "output = []"
   ]
  },
  {
   "cell_type": "code",
   "execution_count": 19,
   "metadata": {},
   "outputs": [
    {
     "name": "stdout",
     "output_type": "stream",
     "text": [
      "{'data': '2015-2-01', 'Brand': 'ANSA                                              '}\n",
      "{'data': '2015-2-01', 'Brand': 'ANSA                                              ', 'TDA': 350709}\n",
      "{'data': '2015-2-01', 'Brand': 'ANSA                                              ', 'TDA': 350709, 'PC': 263174}\n",
      "{'data': '2015-2-01', 'Brand': 'ANSA                                              ', 'TDA': 350709, 'PC': 263174, 'MOBILE': 89088}\n",
      "{'data': '2015-2-01', 'Brand': 'ANSA                                              ', 'TDA': 350709, 'PC': 263174, 'MOBILE': 89088, 'TDA.2': 991}\n",
      "{'data': '2015-2-01', 'Brand': 'ANSA                                              ', 'TDA': 350709, 'PC': 263174, 'MOBILE': 89088, 'TDA.2': 991, 'PC.2': 665}\n",
      "{'data': '2015-2-01', 'Brand': 'ANSA                                              ', 'TDA': 350709, 'PC': 263174, 'MOBILE': 89088, 'TDA.2': 991, 'PC.2': 665, 'MOBILE.2': 326}\n",
      "{'data': '2015-2-01', 'Brand': 'ANSA                                              ', 'TDA': 350709, 'PC': 263174, 'MOBILE': 89088, 'TDA.2': 991, 'PC.2': 665, 'MOBILE.2': 326, 'TDA.4': '  02:27'}\n",
      "{'data': '2015-2-01', 'Brand': 'ANSA                                              ', 'TDA': 350709, 'PC': 263174, 'MOBILE': 89088, 'TDA.2': 991, 'PC.2': 665, 'MOBILE.2': 326, 'TDA.4': '  02:27', 'PC.4': '  02:05'}\n",
      "{'data': '2015-2-01', 'Brand': 'ANSA                                              ', 'TDA': 350709, 'PC': 263174, 'MOBILE': 89088, 'TDA.2': 991, 'PC.2': 665, 'MOBILE.2': 326, 'TDA.4': '  02:27', 'PC.4': '  02:05', 'MOBILE.4': '  03:30'}\n",
      "{'data': '2015-2-01', 'Brand': 'ANSA                                              ', 'TDA': 350709, 'PC': 263174, 'MOBILE': 89088, 'TDA.2': 991, 'PC.2': 665, 'MOBILE.2': 326, 'TDA.4': '  02:27', 'PC.4': '  02:05', 'MOBILE.4': '  03:30', 'Unnamed: 17': nan}\n"
     ]
    },
    {
     "ename": "AttributeError",
     "evalue": "module 'pandas' has no attribute 'Dataframe'",
     "output_type": "error",
     "traceback": [
      "\u001b[1;31m---------------------------------------------------------------------------\u001b[0m",
      "\u001b[1;31mAttributeError\u001b[0m                            Traceback (most recent call last)",
      "\u001b[1;32m<ipython-input-19-e47087c16b3d>\u001b[0m in \u001b[0;36m<module>\u001b[1;34m\u001b[0m\n\u001b[0;32m     19\u001b[0m         \u001b[1;31m#output.append(riga)\u001b[0m\u001b[1;33m\u001b[0m\u001b[1;33m\u001b[0m\u001b[1;33m\u001b[0m\u001b[0m\n\u001b[0;32m     20\u001b[0m        \u001b[1;31m#print (output)\u001b[0m\u001b[1;33m\u001b[0m\u001b[1;33m\u001b[0m\u001b[1;33m\u001b[0m\u001b[0m\n\u001b[1;32m---> 21\u001b[1;33m         \u001b[0mdf\u001b[0m \u001b[1;33m=\u001b[0m \u001b[0mpd\u001b[0m\u001b[1;33m.\u001b[0m\u001b[0mDataframe\u001b[0m\u001b[1;33m(\u001b[0m\u001b[0moutput\u001b[0m\u001b[1;33m)\u001b[0m\u001b[1;33m\u001b[0m\u001b[1;33m\u001b[0m\u001b[0m\n\u001b[0m\u001b[0;32m     22\u001b[0m         \u001b[0mdf\u001b[0m\u001b[1;33m.\u001b[0m\u001b[0mto_csv\u001b[0m\u001b[1;33m(\u001b[0m\u001b[0mGiallozafferano\u001b[0m\u001b[1;33m)\u001b[0m\u001b[1;33m\u001b[0m\u001b[1;33m\u001b[0m\u001b[0m\n\u001b[0;32m     23\u001b[0m \u001b[1;33m\u001b[0m\u001b[0m\n",
      "\u001b[1;32mc:\\users\\theda\\appdata\\local\\programs\\python\\python38\\lib\\site-packages\\pandas\\__init__.py\u001b[0m in \u001b[0;36m__getattr__\u001b[1;34m(name)\u001b[0m\n\u001b[0;32m    256\u001b[0m             \u001b[1;32mreturn\u001b[0m \u001b[0m_SparseArray\u001b[0m\u001b[1;33m\u001b[0m\u001b[1;33m\u001b[0m\u001b[0m\n\u001b[0;32m    257\u001b[0m \u001b[1;33m\u001b[0m\u001b[0m\n\u001b[1;32m--> 258\u001b[1;33m         \u001b[1;32mraise\u001b[0m \u001b[0mAttributeError\u001b[0m\u001b[1;33m(\u001b[0m\u001b[1;34mf\"module 'pandas' has no attribute '{name}'\"\u001b[0m\u001b[1;33m)\u001b[0m\u001b[1;33m\u001b[0m\u001b[1;33m\u001b[0m\u001b[0m\n\u001b[0m\u001b[0;32m    259\u001b[0m \u001b[1;33m\u001b[0m\u001b[0m\n\u001b[0;32m    260\u001b[0m \u001b[1;33m\u001b[0m\u001b[0m\n",
      "\u001b[1;31mAttributeError\u001b[0m: module 'pandas' has no attribute 'Dataframe'"
     ]
    }
   ],
   "source": [
    "\n",
    "\n",
    "for anno in lista_anni:\n",
    "    for mese in lista_mesi:\n",
    "        file = \"DATI/2015/\" + str(mese) + '_' + str(anno) + '.xlsx'\n",
    "        xl = pd.ExcelFile(file)\n",
    "        df = pd.read_excel(xl, 'Dettaglio Brand & Channel',skiprows=18 )\n",
    "        df = df.drop('Channel', axis=1)\n",
    "        df = df.drop('TDA.1', axis=1)\n",
    "        df = df.drop('PC.1', axis=1)\n",
    "        df = df.drop('MOBILE.1', axis=1)\n",
    "        df = df.drop('TDA.3', axis=1)\n",
    "        df = df.drop('PC.3', axis=1)\n",
    "        df = df.drop('MOBILE.3', axis=1)\n",
    "        df[df['Brand'].str.match('Giallozafferano.it')]\n",
    "        riga = {'data' : str(anno) + '-' + str(mese) + '-' + '01'}\n",
    "        df.columns # lista colonne\n",
    "        for column in df.columns:\n",
    "            riga[column] = df[column][40]  #df['Brand'].str.match('Giallozafferano.it')           # verificare\n",
    "            print(riga)\n",
    "        output.append(riga)\n",
    "       #print (output)\n",
    "        df = pd.Dataframe(output)\n",
    "        df.to_csv(Giallozafferano)\n",
    "        \n",
    "      "
   ]
  },
  {
   "cell_type": "code",
   "execution_count": null,
   "metadata": {},
   "outputs": [],
   "source": []
  },
  {
   "cell_type": "code",
   "execution_count": null,
   "metadata": {},
   "outputs": [],
   "source": []
  }
 ],
 "metadata": {
  "kernelspec": {
   "display_name": "Python 3",
   "language": "python",
   "name": "python3"
  },
  "language_info": {
   "codemirror_mode": {
    "name": "ipython",
    "version": 3
   },
   "file_extension": ".py",
   "mimetype": "text/x-python",
   "name": "python",
   "nbconvert_exporter": "python",
   "pygments_lexer": "ipython3",
   "version": "3.8.2"
  }
 },
 "nbformat": 4,
 "nbformat_minor": 4
}
